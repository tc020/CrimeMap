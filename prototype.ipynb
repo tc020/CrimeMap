{
 "cells": [
  {
   "cell_type": "markdown",
   "id": "50340c15",
   "metadata": {},
   "source": [
    "# Prototype #1"
   ]
  },
  {
   "cell_type": "code",
   "execution_count": 1,
   "id": "f8efa371",
   "metadata": {},
   "outputs": [
    {
     "name": "stderr",
     "output_type": "stream",
     "text": [
      "c:\\workspace\\StockPredictor\\StockPredictor_venv\\Lib\\site-packages\\tqdm\\auto.py:21: TqdmWarning: IProgress not found. Please update jupyter and ipywidgets. See https://ipywidgets.readthedocs.io/en/stable/user_install.html\n",
      "  from .autonotebook import tqdm as notebook_tqdm\n"
     ]
    }
   ],
   "source": [
    "import pandas as pd\n",
    "import kagglehub\n",
    "from autogluon.timeseries import TimeSeriesDataFrame, TimeSeriesPredictor"
   ]
  },
  {
   "cell_type": "code",
   "execution_count": 2,
   "id": "a95de983",
   "metadata": {},
   "outputs": [
    {
     "name": "stdout",
     "output_type": "stream",
     "text": [
      "Path to dataset files: C:\\Users\\s3phi\\.cache\\kagglehub\\datasets\\nelgiriyewithana\\world-stock-prices-daily-updating\\versions\\355\n"
     ]
    }
   ],
   "source": [
    "#Download latest version\n",
    "path = kagglehub.dataset_download(\"nelgiriyewithana/world-stock-prices-daily-updating\")\n",
    "\n",
    "print(\"Path to dataset files:\", path)"
   ]
  },
  {
   "cell_type": "code",
   "execution_count": 3,
   "id": "8af3e943",
   "metadata": {},
   "outputs": [
    {
     "name": "stderr",
     "output_type": "stream",
     "text": [
      "<>:2: SyntaxWarning: invalid escape sequence '\\W'\n",
      "<>:2: SyntaxWarning: invalid escape sequence '\\W'\n",
      "C:\\Users\\s3phi\\AppData\\Local\\Temp\\ipykernel_39280\\4072858615.py:2: SyntaxWarning: invalid escape sequence '\\W'\n",
      "  data_path = path+\"\\World-Stock-Prices-Dataset.csv\"\n"
     ]
    }
   ],
   "source": [
    "#Load Data in pandas\n",
    "data_path = path+\"\\World-Stock-Prices-Dataset.csv\"\n",
    "stockdata = pd.read_csv(data_path)\n",
    "#Create DataFrame\n",
    "df = pd.DataFrame(stockdata)"
   ]
  },
  {
   "cell_type": "code",
   "execution_count": 4,
   "id": "ce1c1b1f",
   "metadata": {},
   "outputs": [],
   "source": [
    "brands = df[\"Brand_Name\"].unique().tolist() #create a list of all brands in the df"
   ]
  },
  {
   "cell_type": "code",
   "execution_count": 5,
   "id": "43786f27",
   "metadata": {},
   "outputs": [
    {
     "data": {
      "text/plain": [
       "'google'"
      ]
     },
     "execution_count": 5,
     "metadata": {},
     "output_type": "execute_result"
    }
   ],
   "source": [
    "brand_AUSWAHL = brands[39] #Platzhalter für eine spätere Auswahl vom User\n",
    "brand_AUSWAHL"
   ]
  },
  {
   "cell_type": "code",
   "execution_count": 6,
   "id": "0bb74cb2",
   "metadata": {},
   "outputs": [
    {
     "data": {
      "text/html": [
       "<div>\n",
       "<style scoped>\n",
       "    .dataframe tbody tr th:only-of-type {\n",
       "        vertical-align: middle;\n",
       "    }\n",
       "\n",
       "    .dataframe tbody tr th {\n",
       "        vertical-align: top;\n",
       "    }\n",
       "\n",
       "    .dataframe thead th {\n",
       "        text-align: right;\n",
       "    }\n",
       "</style>\n",
       "<table border=\"1\" class=\"dataframe\">\n",
       "  <thead>\n",
       "    <tr style=\"text-align: right;\">\n",
       "      <th></th>\n",
       "      <th>Date</th>\n",
       "      <th>Close</th>\n",
       "      <th>Brand_Name</th>\n",
       "    </tr>\n",
       "  </thead>\n",
       "  <tbody>\n",
       "    <tr>\n",
       "      <th>39</th>\n",
       "      <td>2025-05-21 00:00:00-04:00</td>\n",
       "      <td>168.559998</td>\n",
       "      <td>google</td>\n",
       "    </tr>\n",
       "    <tr>\n",
       "      <th>59</th>\n",
       "      <td>2025-05-20 00:00:00-04:00</td>\n",
       "      <td>163.979996</td>\n",
       "      <td>google</td>\n",
       "    </tr>\n",
       "    <tr>\n",
       "      <th>179</th>\n",
       "      <td>2025-05-19 00:00:00-04:00</td>\n",
       "      <td>166.539993</td>\n",
       "      <td>google</td>\n",
       "    </tr>\n",
       "    <tr>\n",
       "      <th>232</th>\n",
       "      <td>2025-05-16 00:00:00-04:00</td>\n",
       "      <td>166.190002</td>\n",
       "      <td>google</td>\n",
       "    </tr>\n",
       "    <tr>\n",
       "      <th>262</th>\n",
       "      <td>2025-05-16 00:00:00-04:00</td>\n",
       "      <td>166.190002</td>\n",
       "      <td>google</td>\n",
       "    </tr>\n",
       "    <tr>\n",
       "      <th>...</th>\n",
       "      <td>...</td>\n",
       "      <td>...</td>\n",
       "      <td>...</td>\n",
       "    </tr>\n",
       "    <tr>\n",
       "      <th>267691</th>\n",
       "      <td>2004-08-25 00:00:00-04:00</td>\n",
       "      <td>2.652653</td>\n",
       "      <td>google</td>\n",
       "    </tr>\n",
       "    <tr>\n",
       "      <th>267749</th>\n",
       "      <td>2004-08-24 00:00:00-04:00</td>\n",
       "      <td>2.624374</td>\n",
       "      <td>google</td>\n",
       "    </tr>\n",
       "    <tr>\n",
       "      <th>267768</th>\n",
       "      <td>2004-08-23 00:00:00-04:00</td>\n",
       "      <td>2.737738</td>\n",
       "      <td>google</td>\n",
       "    </tr>\n",
       "    <tr>\n",
       "      <th>267797</th>\n",
       "      <td>2004-08-20 00:00:00-04:00</td>\n",
       "      <td>2.710460</td>\n",
       "      <td>google</td>\n",
       "    </tr>\n",
       "    <tr>\n",
       "      <th>267834</th>\n",
       "      <td>2004-08-19 00:00:00-04:00</td>\n",
       "      <td>2.511011</td>\n",
       "      <td>google</td>\n",
       "    </tr>\n",
       "  </tbody>\n",
       "</table>\n",
       "<p>5271 rows × 3 columns</p>\n",
       "</div>"
      ],
      "text/plain": [
       "                             Date       Close Brand_Name\n",
       "39      2025-05-21 00:00:00-04:00  168.559998     google\n",
       "59      2025-05-20 00:00:00-04:00  163.979996     google\n",
       "179     2025-05-19 00:00:00-04:00  166.539993     google\n",
       "232     2025-05-16 00:00:00-04:00  166.190002     google\n",
       "262     2025-05-16 00:00:00-04:00  166.190002     google\n",
       "...                           ...         ...        ...\n",
       "267691  2004-08-25 00:00:00-04:00    2.652653     google\n",
       "267749  2004-08-24 00:00:00-04:00    2.624374     google\n",
       "267768  2004-08-23 00:00:00-04:00    2.737738     google\n",
       "267797  2004-08-20 00:00:00-04:00    2.710460     google\n",
       "267834  2004-08-19 00:00:00-04:00    2.511011     google\n",
       "\n",
       "[5271 rows x 3 columns]"
      ]
     },
     "metadata": {},
     "output_type": "display_data"
    }
   ],
   "source": [
    "\n",
    "#Filter Brand_Name by apple and filter columns by Date, Close, Brand_Name\n",
    "df_apple = df.loc[df[\"Brand_Name\"] == brand_AUSWAHL, [\"Date\", \"Close\", \"Brand_Name\"]]\n",
    "display(df_apple)"
   ]
  },
  {
   "cell_type": "code",
   "execution_count": 7,
   "id": "08630463",
   "metadata": {},
   "outputs": [
    {
     "data": {
      "text/html": [
       "<div>\n",
       "<style scoped>\n",
       "    .dataframe tbody tr th:only-of-type {\n",
       "        vertical-align: middle;\n",
       "    }\n",
       "\n",
       "    .dataframe tbody tr th {\n",
       "        vertical-align: top;\n",
       "    }\n",
       "\n",
       "    .dataframe thead th {\n",
       "        text-align: right;\n",
       "    }\n",
       "</style>\n",
       "<table border=\"1\" class=\"dataframe\">\n",
       "  <thead>\n",
       "    <tr style=\"text-align: right;\">\n",
       "      <th></th>\n",
       "      <th>timestamp</th>\n",
       "      <th>target</th>\n",
       "      <th>item_id</th>\n",
       "    </tr>\n",
       "  </thead>\n",
       "  <tbody>\n",
       "    <tr>\n",
       "      <th>39</th>\n",
       "      <td>2025-05-21 00:00:00-04:00</td>\n",
       "      <td>168.559998</td>\n",
       "      <td>google</td>\n",
       "    </tr>\n",
       "    <tr>\n",
       "      <th>59</th>\n",
       "      <td>2025-05-20 00:00:00-04:00</td>\n",
       "      <td>163.979996</td>\n",
       "      <td>google</td>\n",
       "    </tr>\n",
       "    <tr>\n",
       "      <th>179</th>\n",
       "      <td>2025-05-19 00:00:00-04:00</td>\n",
       "      <td>166.539993</td>\n",
       "      <td>google</td>\n",
       "    </tr>\n",
       "    <tr>\n",
       "      <th>232</th>\n",
       "      <td>2025-05-16 00:00:00-04:00</td>\n",
       "      <td>166.190002</td>\n",
       "      <td>google</td>\n",
       "    </tr>\n",
       "    <tr>\n",
       "      <th>262</th>\n",
       "      <td>2025-05-16 00:00:00-04:00</td>\n",
       "      <td>166.190002</td>\n",
       "      <td>google</td>\n",
       "    </tr>\n",
       "  </tbody>\n",
       "</table>\n",
       "</div>"
      ],
      "text/plain": [
       "                     timestamp      target item_id\n",
       "39   2025-05-21 00:00:00-04:00  168.559998  google\n",
       "59   2025-05-20 00:00:00-04:00  163.979996  google\n",
       "179  2025-05-19 00:00:00-04:00  166.539993  google\n",
       "232  2025-05-16 00:00:00-04:00  166.190002  google\n",
       "262  2025-05-16 00:00:00-04:00  166.190002  google"
      ]
     },
     "execution_count": 7,
     "metadata": {},
     "output_type": "execute_result"
    }
   ],
   "source": [
    "df_apple_preproc = df_apple.rename(columns={\"Date\": \"timestamp\", \"Close\": \"target\", \"Brand_Name\": \"item_id\"})\n",
    "df_apple_preproc.head(5)"
   ]
  },
  {
   "cell_type": "code",
   "execution_count": 8,
   "id": "bbfab28e",
   "metadata": {},
   "outputs": [
    {
     "data": {
      "text/plain": [
       "timestamp    string[python]\n",
       "target              float64\n",
       "item_id      string[python]\n",
       "dtype: object"
      ]
     },
     "execution_count": 8,
     "metadata": {},
     "output_type": "execute_result"
    }
   ],
   "source": [
    "df_apple_preproc[\"item_id\"] = df_apple_preproc['item_id'].astype(\"string\")\n",
    "df_apple_preproc[\"timestamp\"] = df_apple_preproc['timestamp'].astype(\"string\")\n",
    "df_apple_preproc.dtypes"
   ]
  },
  {
   "cell_type": "code",
   "execution_count": 9,
   "id": "071a0127",
   "metadata": {},
   "outputs": [
    {
     "data": {
      "text/plain": [
       "39        2025-05-21\n",
       "59        2025-05-20\n",
       "179       2025-05-19\n",
       "232       2025-05-16\n",
       "262       2025-05-16\n",
       "             ...    \n",
       "267691    2004-08-25\n",
       "267749    2004-08-24\n",
       "267768    2004-08-23\n",
       "267797    2004-08-20\n",
       "267834    2004-08-19\n",
       "Name: timestamp, Length: 5271, dtype: string"
      ]
     },
     "execution_count": 9,
     "metadata": {},
     "output_type": "execute_result"
    }
   ],
   "source": [
    "timecut = df_apple_preproc[\"timestamp\"].str.slice(stop=10) #Cut hh:mm:ss and timezone\n",
    "timecut"
   ]
  },
  {
   "cell_type": "code",
   "execution_count": 10,
   "id": "768e9e5b",
   "metadata": {},
   "outputs": [
    {
     "data": {
      "text/html": [
       "<div>\n",
       "<style scoped>\n",
       "    .dataframe tbody tr th:only-of-type {\n",
       "        vertical-align: middle;\n",
       "    }\n",
       "\n",
       "    .dataframe tbody tr th {\n",
       "        vertical-align: top;\n",
       "    }\n",
       "\n",
       "    .dataframe thead th {\n",
       "        text-align: right;\n",
       "    }\n",
       "</style>\n",
       "<table border=\"1\" class=\"dataframe\">\n",
       "  <thead>\n",
       "    <tr style=\"text-align: right;\">\n",
       "      <th></th>\n",
       "      <th>timestamp</th>\n",
       "      <th>target</th>\n",
       "      <th>item_id</th>\n",
       "    </tr>\n",
       "  </thead>\n",
       "  <tbody>\n",
       "    <tr>\n",
       "      <th>39</th>\n",
       "      <td>2025-05-21</td>\n",
       "      <td>168.559998</td>\n",
       "      <td>google</td>\n",
       "    </tr>\n",
       "    <tr>\n",
       "      <th>59</th>\n",
       "      <td>2025-05-20</td>\n",
       "      <td>163.979996</td>\n",
       "      <td>google</td>\n",
       "    </tr>\n",
       "    <tr>\n",
       "      <th>179</th>\n",
       "      <td>2025-05-19</td>\n",
       "      <td>166.539993</td>\n",
       "      <td>google</td>\n",
       "    </tr>\n",
       "    <tr>\n",
       "      <th>232</th>\n",
       "      <td>2025-05-16</td>\n",
       "      <td>166.190002</td>\n",
       "      <td>google</td>\n",
       "    </tr>\n",
       "    <tr>\n",
       "      <th>262</th>\n",
       "      <td>2025-05-16</td>\n",
       "      <td>166.190002</td>\n",
       "      <td>google</td>\n",
       "    </tr>\n",
       "    <tr>\n",
       "      <th>...</th>\n",
       "      <td>...</td>\n",
       "      <td>...</td>\n",
       "      <td>...</td>\n",
       "    </tr>\n",
       "    <tr>\n",
       "      <th>267691</th>\n",
       "      <td>2004-08-25</td>\n",
       "      <td>2.652653</td>\n",
       "      <td>google</td>\n",
       "    </tr>\n",
       "    <tr>\n",
       "      <th>267749</th>\n",
       "      <td>2004-08-24</td>\n",
       "      <td>2.624374</td>\n",
       "      <td>google</td>\n",
       "    </tr>\n",
       "    <tr>\n",
       "      <th>267768</th>\n",
       "      <td>2004-08-23</td>\n",
       "      <td>2.737738</td>\n",
       "      <td>google</td>\n",
       "    </tr>\n",
       "    <tr>\n",
       "      <th>267797</th>\n",
       "      <td>2004-08-20</td>\n",
       "      <td>2.710460</td>\n",
       "      <td>google</td>\n",
       "    </tr>\n",
       "    <tr>\n",
       "      <th>267834</th>\n",
       "      <td>2004-08-19</td>\n",
       "      <td>2.511011</td>\n",
       "      <td>google</td>\n",
       "    </tr>\n",
       "  </tbody>\n",
       "</table>\n",
       "<p>5271 rows × 3 columns</p>\n",
       "</div>"
      ],
      "text/plain": [
       "         timestamp      target item_id\n",
       "39      2025-05-21  168.559998  google\n",
       "59      2025-05-20  163.979996  google\n",
       "179     2025-05-19  166.539993  google\n",
       "232     2025-05-16  166.190002  google\n",
       "262     2025-05-16  166.190002  google\n",
       "...            ...         ...     ...\n",
       "267691  2004-08-25    2.652653  google\n",
       "267749  2004-08-24    2.624374  google\n",
       "267768  2004-08-23    2.737738  google\n",
       "267797  2004-08-20    2.710460  google\n",
       "267834  2004-08-19    2.511011  google\n",
       "\n",
       "[5271 rows x 3 columns]"
      ]
     },
     "execution_count": 10,
     "metadata": {},
     "output_type": "execute_result"
    }
   ],
   "source": [
    "df_apple_preproc[\"timestamp\"] = timecut\n",
    "df_apple_preproc"
   ]
  },
  {
   "cell_type": "code",
   "execution_count": 11,
   "id": "a278074a",
   "metadata": {},
   "outputs": [
    {
     "data": {
      "text/plain": [
       "timestamp    datetime64[ns]\n",
       "target              float64\n",
       "item_id      string[python]\n",
       "dtype: object"
      ]
     },
     "execution_count": 11,
     "metadata": {},
     "output_type": "execute_result"
    }
   ],
   "source": [
    "df_apple_preproc[\"timestamp\"] = pd.to_datetime(timecut) #convert string into datetime64\n",
    "df_apple_preproc.dtypes"
   ]
  },
  {
   "cell_type": "code",
   "execution_count": 12,
   "id": "32e3776d",
   "metadata": {},
   "outputs": [
    {
     "data": {
      "text/html": [
       "<div>\n",
       "<style scoped>\n",
       "    .dataframe tbody tr th:only-of-type {\n",
       "        vertical-align: middle;\n",
       "    }\n",
       "\n",
       "    .dataframe tbody tr th {\n",
       "        vertical-align: top;\n",
       "    }\n",
       "\n",
       "    .dataframe thead th {\n",
       "        text-align: right;\n",
       "    }\n",
       "</style>\n",
       "<table border=\"1\" class=\"dataframe\">\n",
       "  <thead>\n",
       "    <tr style=\"text-align: right;\">\n",
       "      <th></th>\n",
       "      <th>item_id</th>\n",
       "      <th>timestamp</th>\n",
       "      <th>target</th>\n",
       "    </tr>\n",
       "  </thead>\n",
       "  <tbody>\n",
       "    <tr>\n",
       "      <th>39</th>\n",
       "      <td>google</td>\n",
       "      <td>2025-05-21</td>\n",
       "      <td>168.559998</td>\n",
       "    </tr>\n",
       "    <tr>\n",
       "      <th>59</th>\n",
       "      <td>google</td>\n",
       "      <td>2025-05-20</td>\n",
       "      <td>163.979996</td>\n",
       "    </tr>\n",
       "    <tr>\n",
       "      <th>179</th>\n",
       "      <td>google</td>\n",
       "      <td>2025-05-19</td>\n",
       "      <td>166.539993</td>\n",
       "    </tr>\n",
       "    <tr>\n",
       "      <th>232</th>\n",
       "      <td>google</td>\n",
       "      <td>2025-05-16</td>\n",
       "      <td>166.190002</td>\n",
       "    </tr>\n",
       "    <tr>\n",
       "      <th>262</th>\n",
       "      <td>google</td>\n",
       "      <td>2025-05-16</td>\n",
       "      <td>166.190002</td>\n",
       "    </tr>\n",
       "    <tr>\n",
       "      <th>...</th>\n",
       "      <td>...</td>\n",
       "      <td>...</td>\n",
       "      <td>...</td>\n",
       "    </tr>\n",
       "    <tr>\n",
       "      <th>267691</th>\n",
       "      <td>google</td>\n",
       "      <td>2004-08-25</td>\n",
       "      <td>2.652653</td>\n",
       "    </tr>\n",
       "    <tr>\n",
       "      <th>267749</th>\n",
       "      <td>google</td>\n",
       "      <td>2004-08-24</td>\n",
       "      <td>2.624374</td>\n",
       "    </tr>\n",
       "    <tr>\n",
       "      <th>267768</th>\n",
       "      <td>google</td>\n",
       "      <td>2004-08-23</td>\n",
       "      <td>2.737738</td>\n",
       "    </tr>\n",
       "    <tr>\n",
       "      <th>267797</th>\n",
       "      <td>google</td>\n",
       "      <td>2004-08-20</td>\n",
       "      <td>2.710460</td>\n",
       "    </tr>\n",
       "    <tr>\n",
       "      <th>267834</th>\n",
       "      <td>google</td>\n",
       "      <td>2004-08-19</td>\n",
       "      <td>2.511011</td>\n",
       "    </tr>\n",
       "  </tbody>\n",
       "</table>\n",
       "<p>5271 rows × 3 columns</p>\n",
       "</div>"
      ],
      "text/plain": [
       "       item_id  timestamp      target\n",
       "39      google 2025-05-21  168.559998\n",
       "59      google 2025-05-20  163.979996\n",
       "179     google 2025-05-19  166.539993\n",
       "232     google 2025-05-16  166.190002\n",
       "262     google 2025-05-16  166.190002\n",
       "...        ...        ...         ...\n",
       "267691  google 2004-08-25    2.652653\n",
       "267749  google 2004-08-24    2.624374\n",
       "267768  google 2004-08-23    2.737738\n",
       "267797  google 2004-08-20    2.710460\n",
       "267834  google 2004-08-19    2.511011\n",
       "\n",
       "[5271 rows x 3 columns]"
      ]
     },
     "execution_count": 12,
     "metadata": {},
     "output_type": "execute_result"
    }
   ],
   "source": [
    "df_apple_reordered =  df_apple_preproc[['item_id', 'timestamp', 'target']] #Reordering columns\n",
    "\n",
    "df_apple_reordered"
   ]
  },
  {
   "cell_type": "markdown",
   "id": "89733a12",
   "metadata": {},
   "source": [
    "# Preproccessing in AutoGluon"
   ]
  },
  {
   "cell_type": "code",
   "execution_count": 13,
   "id": "8a842ab2",
   "metadata": {},
   "outputs": [
    {
     "data": {
      "text/html": [
       "<div>\n",
       "<style scoped>\n",
       "    .dataframe tbody tr th:only-of-type {\n",
       "        vertical-align: middle;\n",
       "    }\n",
       "\n",
       "    .dataframe tbody tr th {\n",
       "        vertical-align: top;\n",
       "    }\n",
       "\n",
       "    .dataframe thead th {\n",
       "        text-align: right;\n",
       "    }\n",
       "</style>\n",
       "<table border=\"1\" class=\"dataframe\">\n",
       "  <thead>\n",
       "    <tr style=\"text-align: right;\">\n",
       "      <th></th>\n",
       "      <th></th>\n",
       "      <th>target</th>\n",
       "    </tr>\n",
       "    <tr>\n",
       "      <th>item_id</th>\n",
       "      <th>timestamp</th>\n",
       "      <th></th>\n",
       "    </tr>\n",
       "  </thead>\n",
       "  <tbody>\n",
       "    <tr>\n",
       "      <th rowspan=\"10\" valign=\"top\">google</th>\n",
       "      <th>2025-05-21</th>\n",
       "      <td>168.559998</td>\n",
       "    </tr>\n",
       "    <tr>\n",
       "      <th>2025-05-20</th>\n",
       "      <td>163.979996</td>\n",
       "    </tr>\n",
       "    <tr>\n",
       "      <th>2025-05-19</th>\n",
       "      <td>166.539993</td>\n",
       "    </tr>\n",
       "    <tr>\n",
       "      <th>2025-05-16</th>\n",
       "      <td>166.190002</td>\n",
       "    </tr>\n",
       "    <tr>\n",
       "      <th>2025-05-16</th>\n",
       "      <td>166.190002</td>\n",
       "    </tr>\n",
       "    <tr>\n",
       "      <th>2025-05-15</th>\n",
       "      <td>163.960007</td>\n",
       "    </tr>\n",
       "    <tr>\n",
       "      <th>2025-05-14</th>\n",
       "      <td>165.369995</td>\n",
       "    </tr>\n",
       "    <tr>\n",
       "      <th>2025-05-13</th>\n",
       "      <td>159.529999</td>\n",
       "    </tr>\n",
       "    <tr>\n",
       "      <th>2025-05-12</th>\n",
       "      <td>158.460007</td>\n",
       "    </tr>\n",
       "    <tr>\n",
       "      <th>2025-05-05</th>\n",
       "      <td>164.210007</td>\n",
       "    </tr>\n",
       "  </tbody>\n",
       "</table>\n",
       "</div>"
      ],
      "text/plain": [
       "                        target\n",
       "item_id timestamp             \n",
       "google  2025-05-21  168.559998\n",
       "        2025-05-20  163.979996\n",
       "        2025-05-19  166.539993\n",
       "        2025-05-16  166.190002\n",
       "        2025-05-16  166.190002\n",
       "        2025-05-15  163.960007\n",
       "        2025-05-14  165.369995\n",
       "        2025-05-13  159.529999\n",
       "        2025-05-12  158.460007\n",
       "        2025-05-05  164.210007"
      ]
     },
     "execution_count": 13,
     "metadata": {},
     "output_type": "execute_result"
    }
   ],
   "source": [
    "df_irregular = TimeSeriesDataFrame(\n",
    "    pd.DataFrame(df_apple_reordered)\n",
    ")\n",
    "df_irregular.head(10)"
   ]
  },
  {
   "cell_type": "code",
   "execution_count": 14,
   "id": "764d1116",
   "metadata": {},
   "outputs": [
    {
     "data": {
      "text/html": [
       "<div>\n",
       "<style scoped>\n",
       "    .dataframe tbody tr th:only-of-type {\n",
       "        vertical-align: middle;\n",
       "    }\n",
       "\n",
       "    .dataframe tbody tr th {\n",
       "        vertical-align: top;\n",
       "    }\n",
       "\n",
       "    .dataframe thead th {\n",
       "        text-align: right;\n",
       "    }\n",
       "</style>\n",
       "<table border=\"1\" class=\"dataframe\">\n",
       "  <thead>\n",
       "    <tr style=\"text-align: right;\">\n",
       "      <th></th>\n",
       "      <th></th>\n",
       "      <th>target</th>\n",
       "    </tr>\n",
       "    <tr>\n",
       "      <th>item_id</th>\n",
       "      <th>timestamp</th>\n",
       "      <th></th>\n",
       "    </tr>\n",
       "  </thead>\n",
       "  <tbody>\n",
       "    <tr>\n",
       "      <th rowspan=\"10\" valign=\"top\">google</th>\n",
       "      <th>2004-08-19</th>\n",
       "      <td>2.511011</td>\n",
       "    </tr>\n",
       "    <tr>\n",
       "      <th>2004-08-20</th>\n",
       "      <td>2.710460</td>\n",
       "    </tr>\n",
       "    <tr>\n",
       "      <th>2004-08-21</th>\n",
       "      <td>2.710460</td>\n",
       "    </tr>\n",
       "    <tr>\n",
       "      <th>2004-08-22</th>\n",
       "      <td>2.710460</td>\n",
       "    </tr>\n",
       "    <tr>\n",
       "      <th>2004-08-23</th>\n",
       "      <td>2.737738</td>\n",
       "    </tr>\n",
       "    <tr>\n",
       "      <th>2004-08-24</th>\n",
       "      <td>2.624374</td>\n",
       "    </tr>\n",
       "    <tr>\n",
       "      <th>2004-08-25</th>\n",
       "      <td>2.652653</td>\n",
       "    </tr>\n",
       "    <tr>\n",
       "      <th>2004-08-26</th>\n",
       "      <td>2.700450</td>\n",
       "    </tr>\n",
       "    <tr>\n",
       "      <th>2004-08-27</th>\n",
       "      <td>2.656406</td>\n",
       "    </tr>\n",
       "    <tr>\n",
       "      <th>2004-08-28</th>\n",
       "      <td>2.656406</td>\n",
       "    </tr>\n",
       "  </tbody>\n",
       "</table>\n",
       "</div>"
      ],
      "text/plain": [
       "                      target\n",
       "item_id timestamp           \n",
       "google  2004-08-19  2.511011\n",
       "        2004-08-20  2.710460\n",
       "        2004-08-21  2.710460\n",
       "        2004-08-22  2.710460\n",
       "        2004-08-23  2.737738\n",
       "        2004-08-24  2.624374\n",
       "        2004-08-25  2.652653\n",
       "        2004-08-26  2.700450\n",
       "        2004-08-27  2.656406\n",
       "        2004-08-28  2.656406"
      ]
     },
     "execution_count": 14,
     "metadata": {},
     "output_type": "execute_result"
    }
   ],
   "source": [
    "df_regular = df_irregular.convert_frequency(freq=\"D\")\n",
    "df_filled = df_regular.fill_missing_values()\n",
    "df_filled.head(10)"
   ]
  },
  {
   "cell_type": "markdown",
   "id": "aa7b0cb7",
   "metadata": {},
   "source": [
    "# Equip Model"
   ]
  },
  {
   "cell_type": "code",
   "execution_count": 15,
   "id": "7989877a",
   "metadata": {},
   "outputs": [
    {
     "data": {
      "text/html": [
       "<div>\n",
       "<style scoped>\n",
       "    .dataframe tbody tr th:only-of-type {\n",
       "        vertical-align: middle;\n",
       "    }\n",
       "\n",
       "    .dataframe tbody tr th {\n",
       "        vertical-align: top;\n",
       "    }\n",
       "\n",
       "    .dataframe thead th {\n",
       "        text-align: right;\n",
       "    }\n",
       "</style>\n",
       "<table border=\"1\" class=\"dataframe\">\n",
       "  <thead>\n",
       "    <tr style=\"text-align: right;\">\n",
       "      <th></th>\n",
       "      <th></th>\n",
       "      <th>target</th>\n",
       "    </tr>\n",
       "    <tr>\n",
       "      <th>item_id</th>\n",
       "      <th>timestamp</th>\n",
       "      <th></th>\n",
       "    </tr>\n",
       "  </thead>\n",
       "  <tbody>\n",
       "    <tr>\n",
       "      <th rowspan=\"11\" valign=\"top\">google</th>\n",
       "      <th>2004-08-19</th>\n",
       "      <td>2.511011</td>\n",
       "    </tr>\n",
       "    <tr>\n",
       "      <th>2004-08-20</th>\n",
       "      <td>2.710460</td>\n",
       "    </tr>\n",
       "    <tr>\n",
       "      <th>2004-08-21</th>\n",
       "      <td>2.710460</td>\n",
       "    </tr>\n",
       "    <tr>\n",
       "      <th>2004-08-22</th>\n",
       "      <td>2.710460</td>\n",
       "    </tr>\n",
       "    <tr>\n",
       "      <th>2004-08-23</th>\n",
       "      <td>2.737738</td>\n",
       "    </tr>\n",
       "    <tr>\n",
       "      <th>...</th>\n",
       "      <td>...</td>\n",
       "    </tr>\n",
       "    <tr>\n",
       "      <th>2025-05-17</th>\n",
       "      <td>166.190002</td>\n",
       "    </tr>\n",
       "    <tr>\n",
       "      <th>2025-05-18</th>\n",
       "      <td>166.190002</td>\n",
       "    </tr>\n",
       "    <tr>\n",
       "      <th>2025-05-19</th>\n",
       "      <td>166.539993</td>\n",
       "    </tr>\n",
       "    <tr>\n",
       "      <th>2025-05-20</th>\n",
       "      <td>163.979996</td>\n",
       "    </tr>\n",
       "    <tr>\n",
       "      <th>2025-05-21</th>\n",
       "      <td>168.559998</td>\n",
       "    </tr>\n",
       "  </tbody>\n",
       "</table>\n",
       "<p>7581 rows × 1 columns</p>\n",
       "</div>"
      ],
      "text/plain": [
       "                        target\n",
       "item_id timestamp             \n",
       "google  2004-08-19    2.511011\n",
       "        2004-08-20    2.710460\n",
       "        2004-08-21    2.710460\n",
       "        2004-08-22    2.710460\n",
       "        2004-08-23    2.737738\n",
       "...                        ...\n",
       "        2025-05-17  166.190002\n",
       "        2025-05-18  166.190002\n",
       "        2025-05-19  166.539993\n",
       "        2025-05-20  163.979996\n",
       "        2025-05-21  168.559998\n",
       "\n",
       "[7581 rows x 1 columns]"
      ]
     },
     "execution_count": 15,
     "metadata": {},
     "output_type": "execute_result"
    }
   ],
   "source": [
    "data = TimeSeriesDataFrame.from_data_frame(\n",
    "    df = df_filled,\n",
    "    id_column=\"item_id\",\n",
    "    timestamp_column=\"timestamp\"\n",
    ")\n",
    "data"
   ]
  },
  {
   "cell_type": "code",
   "execution_count": 16,
   "id": "90fa53be",
   "metadata": {},
   "outputs": [
    {
     "name": "stderr",
     "output_type": "stream",
     "text": [
      "Beginning AutoGluon training...\n",
      "AutoGluon will save models to 'c:\\workspace\\CrimeMap\\AutogluonModels\\ag-20250523_063622'\n",
      "=================== System Info ===================\n",
      "AutoGluon Version:  1.3.0\n",
      "Python Version:     3.12.1\n",
      "Operating System:   Windows\n",
      "Platform Machine:   AMD64\n",
      "Platform Version:   10.0.19045\n",
      "CPU Count:          8\n",
      "GPU Count:          0\n",
      "Memory Avail:       1.45 GB / 15.70 GB (9.2%)\n",
      "Disk Space Avail:   60.33 GB / 475.50 GB (12.7%)\n",
      "===================================================\n",
      "Setting presets to: bolt_base\n",
      "\n",
      "Fitting with arguments:\n",
      "{'enable_ensemble': True,\n",
      " 'eval_metric': WQL,\n",
      " 'hyperparameters': {'Chronos': {'model_path': 'bolt_base'}},\n",
      " 'known_covariates_names': [],\n",
      " 'num_val_windows': 1,\n",
      " 'prediction_length': 30,\n",
      " 'quantile_levels': [0.1, 0.2, 0.3, 0.4, 0.5, 0.6, 0.7, 0.8, 0.9],\n",
      " 'random_seed': 123,\n",
      " 'refit_every_n_windows': 1,\n",
      " 'refit_full': False,\n",
      " 'skip_model_selection': True,\n",
      " 'target': 'target',\n",
      " 'verbosity': 2}\n",
      "\n",
      "Inferred time series frequency: 'D'\n",
      "Provided train_data has 7551 rows, 1 time series. Median time series length is 7551 (min=7551, max=7551). \n",
      "\n",
      "Provided data contains following columns:\n",
      "\ttarget: 'target'\n",
      "\n",
      "AutoGluon will gauge predictive performance using evaluation metric: 'WQL'\n",
      "\tThis metric's sign has been flipped to adhere to being higher_is_better. The metric score can be multiplied by -1 to get the metric value.\n",
      "===================================================\n",
      "\n",
      "Starting training. Start time is 2025-05-23 08:36:25\n",
      "Models that will be trained: ['Chronos[bolt_base]']\n",
      "Training timeseries model Chronos[bolt_base]. \n",
      "\t7.58    s     = Training runtime\n",
      "Training complete. Models trained: ['Chronos[bolt_base]']\n",
      "Total runtime: 7.60 s\n",
      "Best model: Chronos[bolt_base]\n"
     ]
    }
   ],
   "source": [
    "prediction_length = 30\n",
    "train_data, test_data = data.train_test_split(prediction_length)\n",
    "\n",
    "predictor = TimeSeriesPredictor(prediction_length=prediction_length).fit(\n",
    "    train_data, presets=\"bolt_base\",\n",
    ")"
   ]
  },
  {
   "cell_type": "code",
   "execution_count": 17,
   "id": "2aa8f8cd",
   "metadata": {},
   "outputs": [
    {
     "name": "stderr",
     "output_type": "stream",
     "text": [
      "Model not specified in predict, will default to the model with the best validation score: Chronos[bolt_base]\n"
     ]
    },
    {
     "data": {
      "image/png": "[encoded data removed]",
      "text/plain": [
       "<Figure size 2000x350 with 1 Axes>"
      ]
     },
     "metadata": {},
     "output_type": "display_data"
    }
   ],
   "source": [
    "predictions = predictor.predict(train_data)\n",
    "predictor.plot(\n",
    "    data=data,\n",
    "    predictions=predictions,\n",
    "    item_ids=data.item_ids[:2],\n",
    "    max_history_length=200,\n",
    ");"
   ]
  },
  {
   "cell_type": "code",
   "execution_count": 23,
   "id": "5c421991",
   "metadata": {},
   "outputs": [
    {
     "name": "stderr",
     "output_type": "stream",
     "text": [
      "Beginning AutoGluon training... Time limit = 1200s\n",
      "AutoGluon will save models to 'c:\\workspace\\CrimeMap\\AutogluonModels\\ag-20250523_070003'\n"
     ]
    },
    {
     "name": "stderr",
     "output_type": "stream",
     "text": [
      "=================== System Info ===================\n",
      "AutoGluon Version:  1.3.0\n",
      "Python Version:     3.12.1\n",
      "Operating System:   Windows\n",
      "Platform Machine:   AMD64\n",
      "Platform Version:   10.0.19045\n",
      "CPU Count:          8\n",
      "GPU Count:          0\n",
      "Memory Avail:       0.98 GB / 15.70 GB (6.2%)\n",
      "Disk Space Avail:   58.12 GB / 475.50 GB (12.2%)\n",
      "===================================================\n",
      "Setting presets to: bolt_base\n",
      "\n",
      "Fitting with arguments:\n",
      "{'enable_ensemble': True,\n",
      " 'eval_metric': WQL,\n",
      " 'hyperparameters': {'Chronos': {'fine_tune': True,\n",
      "                                 'fine_tune_lr': 0.0001,\n",
      "                                 'fine_tune_steps': 4000}},\n",
      " 'known_covariates_names': [],\n",
      " 'num_val_windows': 1,\n",
      " 'prediction_length': 30,\n",
      " 'quantile_levels': [0.1, 0.2, 0.3, 0.4, 0.5, 0.6, 0.7, 0.8, 0.9],\n",
      " 'random_seed': 123,\n",
      " 'refit_every_n_windows': 1,\n",
      " 'refit_full': False,\n",
      " 'skip_model_selection': True,\n",
      " 'target': 'target',\n",
      " 'time_limit': 1200,\n",
      " 'verbosity': 2}\n",
      "\n",
      "Inferred time series frequency: 'D'\n",
      "Provided train_data has 7551 rows, 1 time series. Median time series length is 7551 (min=7551, max=7551). \n",
      "\n",
      "Provided data contains following columns:\n",
      "\ttarget: 'target'\n",
      "\n",
      "AutoGluon will gauge predictive performance using evaluation metric: 'WQL'\n",
      "\tThis metric's sign has been flipped to adhere to being higher_is_better. The metric score can be multiplied by -1 to get the metric value.\n",
      "===================================================\n",
      "\n",
      "Starting training. Start time is 2025-05-23 09:00:03\n",
      "Models that will be trained: ['Chronos[autogluon__chronos-bolt-small]']\n",
      "Training timeseries model Chronos[autogluon__chronos-bolt-small]. Training for up to 1199.9s of the 1199.9s of remaining time.\n",
      "\tFine-tuning on the CPU detected. We recommend using a GPU for faster fine-tuning of Chronos.\n",
      "\tSaving fine-tuned model to c:\\workspace\\CrimeMap\\AutogluonModels\\ag-20250523_070003\\models\\Chronos[autogluon__chronos-bolt-small]\\fine-tuned-ckpt\n",
      "\t964.85  s     = Training runtime\n",
      "Training complete. Models trained: ['Chronos[autogluon__chronos-bolt-small]']\n",
      "Total runtime: 964.89 s\n",
      "Best model: Chronos[autogluon__chronos-bolt-small]\n"
     ]
    }
   ],
   "source": [
    "prediction_length = 30\n",
    "train_data, test_data = data.train_test_split(prediction_length)\n",
    "\n",
    "predictor = TimeSeriesPredictor(prediction_length=prediction_length).fit(\n",
    "    train_data, presets=\"bolt_base\", hyperparameters={\"Chronos\": {\"fine_tune\": True, \"fine_tune_lr\": 1e-4, \"fine_tune_steps\": 4000}},\n",
    "    time_limit=1200,\n",
    ")"
   ]
  },
  {
   "cell_type": "code",
   "execution_count": 24,
   "id": "6d822cd5",
   "metadata": {},
   "outputs": [
    {
     "name": "stderr",
     "output_type": "stream",
     "text": [
      "Model not specified in predict, will default to the model with the best validation score: Chronos[autogluon__chronos-bolt-small]\n"
     ]
    },
    {
     "data": {
      "image/png": "[encoded data removed]",
      "text/plain": [
       "<Figure size 2000x350 with 1 Axes>"
      ]
     },
     "metadata": {},
     "output_type": "display_data"
    }
   ],
   "source": [
    "predictions = predictor.predict(train_data)\n",
    "predictor.plot(\n",
    "    data=data,\n",
    "    predictions=predictions,\n",
    "    item_ids=data.item_ids[:2],\n",
    "    max_history_length=200,\n",
    ");"
   ]
  },
  {
   "cell_type": "code",
   "execution_count": 32,
   "id": "420355f0",
   "metadata": {},
   "outputs": [
    {
     "name": "stderr",
     "output_type": "stream",
     "text": [
      "<>:1: SyntaxWarning: invalid escape sequence '\\w'\n",
      "<>:1: SyntaxWarning: invalid escape sequence '\\w'\n",
      "C:\\Users\\s3phi\\AppData\\Local\\Temp\\ipykernel_39280\\1413103349.py:1: SyntaxWarning: invalid escape sequence '\\w'\n",
      "  predictor = TimeSeriesPredictor.load(\"C:\\workspace\\CrimeMap\\AutogluonModels\\\\ag-20250523_070003\")\n",
      "Loading predictor from path C:\\workspace\\CrimeMap\\AutogluonModels\\ag-20250523_070003\n"
     ]
    }
   ],
   "source": [
    "predictor = TimeSeriesPredictor.load(\"C:\\workspace\\CrimeMap\\AutogluonModels\\\\ag-20250523_070003\")"
   ]
  },
  {
   "cell_type": "code",
   "execution_count": 33,
   "id": "6dbb36da",
   "metadata": {},
   "outputs": [
    {
     "name": "stderr",
     "output_type": "stream",
     "text": [
      "Model not specified in predict, will default to the model with the best validation score: Chronos[autogluon__chronos-bolt-small]\n"
     ]
    },
    {
     "data": {
      "image/png": "[encoded data removed]",
      "text/plain": [
       "<Figure size 2000x350 with 1 Axes>"
      ]
     },
     "metadata": {},
     "output_type": "display_data"
    }
   ],
   "source": [
    "predictions = predictor.predict(train_data)\n",
    "predictor.plot(\n",
    "    data=data,\n",
    "    predictions=predictions,\n",
    "    item_ids=data.item_ids[:2],\n",
    "    max_history_length=200,\n",
    ");"
   ]
  }
 ],
 "metadata": {
  "kernelspec": {
   "display_name": "StockPredictor_venv",
   "language": "python",
   "name": "python3"
  },
  "language_info": {
   "codemirror_mode": {
    "name": "ipython",
    "version": 3
   },
   "file_extension": ".py",
   "mimetype": "text/x-python",
   "name": "python",
   "nbconvert_exporter": "python",
   "pygments_lexer": "ipython3",
   "version": "3.12.1"
  }
 },
 "nbformat": 4,
 "nbformat_minor": 5
}
