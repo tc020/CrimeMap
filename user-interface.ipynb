{
 "cells": [
  {
   "cell_type": "markdown",
   "id": "c1163e8b",
   "metadata": {},
   "source": [
    "# Gradio User Interface"
   ]
  },
  {
   "cell_type": "code",
   "execution_count": null,
   "id": "8250beaf",
   "metadata": {},
   "outputs": [],
   "source": [
    "import gradio as gr\n",
    "\n",
    "# Closing all open ports\n",
    "gr.close_all()"
   ]
  },
  {
   "cell_type": "code",
   "execution_count": null,
   "id": "c018a793",
   "metadata": {},
   "outputs": [],
   "source": [
    "def loaddata():\n",
    "    \n",
    "    return()\n",
    "\n",
    "def greet(name, intensity):\n",
    "    return \"Hello, \" + name + \"!\" * int(intensity)\n",
    "\n",
    "demo = gr.Interface(\n",
    "    fn=greet,\n",
    "    inputs=[\"text\", \"slider\"],\n",
    "    outputs=[\"text\"],\n",
    ")\n",
    "\n",
    "demo.launch()\n"
   ]
  },
  {
   "cell_type": "code",
   "execution_count": null,
   "id": "5ffe52aa",
   "metadata": {},
   "outputs": [],
   "source": [
    "import gradio as gr\n",
    "import pandas as pd\n",
    "\n",
    "# Beispiel-DataFrame\n",
    "df = pd.DataFrame({\n",
    "    \"Name\": [\"Alice\", \"Bob\", \"Charlie\"],\n",
    "    \"Alter\": [25, 30, 35],\n",
    "    \"Beruf\": [\"Ingenieur\", \"Lehrer\", \"Designer\"]\n",
    "})\n",
    "\n",
    "# Interface-Funktion, gibt das DataFrame zurück\n",
    "def show_df():\n",
    "    return df\n",
    "\n",
    "app = gr.Interface(fn=show_df, inputs=[], outputs=gr.Dataframe())\n",
    "\n",
    "app.launch()\n"
   ]
  },
  {
   "cell_type": "code",
   "execution_count": null,
   "id": "085e2f5a",
   "metadata": {},
   "outputs": [],
   "source": [
    "import gradio as gr\n",
    "\n",
    "with gr.Blocks() as demo:\n",
    "    input_text = gr.Textbox()\n",
    "\n",
    "    @gr.render(inputs=input_text)\n",
    "    def show_split(text):\n",
    "        if len(text) == 0:\n",
    "            gr.Markdown(\"## No Input Provided\")\n",
    "        else:\n",
    "            for letter in text:\n",
    "                with gr.Row():\n",
    "                    text = gr.Textbox(letter)\n",
    "                    btn = gr.Button(\"Clear\")\n",
    "                    btn.click(lambda: gr.Textbox(value=\"\"), None, text)"
   ]
  }
 ],
 "metadata": {
  "kernelspec": {
   "display_name": "StockPredictor_venv",
   "language": "python",
   "name": "python3"
  },
  "language_info": {
   "codemirror_mode": {
    "name": "ipython",
    "version": 3
   },
   "file_extension": ".py",
   "mimetype": "text/x-python",
   "name": "python",
   "nbconvert_exporter": "python",
   "pygments_lexer": "ipython3",
   "version": "3.12.1"
  }
 },
 "nbformat": 4,
 "nbformat_minor": 5
}
